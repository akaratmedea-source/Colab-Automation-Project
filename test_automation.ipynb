# =================================================================
# 1. إعداد المكتبات الأساسية
# =================================================================
from google.colab import drive
import os
import datetime

# =================================================================
# 2. ربط Google Drive وتحديد المسار
# =================================================================

# عند التشغيل عبر GitHub Actions، سيستخدم هذا السطر المفتاح السري (GOOGLE_CREDS)
# للدخول إلى حساب الخدمة الذي لديه صلاحية الوصول إلى Drive.
drive.mount('/content/drive')

# تأكد أن هذا المسار مطابق تماماً للمجلد الذي شاركته مع حساب الخدمة
DRIVE_DIR = '/content/drive/MyDrive/Automated_Videos_Test' 

# =================================================================
# 3. إنشاء ملف تجريبي (بديل للفيديو)
# =================================================================

# توليد طابع زمني لضمان اسم ملف فريد
timestamp = datetime.datetime.now().strftime("%Y%m%d_%H%M%S")
output_filename = f"story_test_{timestamp}.txt"

# كتابة محتوى بسيط في الملف التجريبي
with open(output_filename, 'w') as f:
    f.write(f"TEST SUCCESS: File created on {timestamp} by GitHub Actions.\n")
    f.write(f"This confirms the secure connection to Google Drive is working.\n")

# =================================================================
# 4. نقل الملف إلى Google Drive
# =================================================================

# نقل الملف من بيئة Colab المؤقتة إلى المجلد المشترك في Drive
# الأمر !mv هو أمر Linux يُستخدم للنقل
!mv {output_filename} {DRIVE_DIR}/

# طباعة رسالة تأكيد (تظهر في سجل GitHub Actions)
output_path = os.path.join(DRIVE_DIR, output_filename)
print(f"Successfully moved the test file to: {output_path}")

# =================================================================
