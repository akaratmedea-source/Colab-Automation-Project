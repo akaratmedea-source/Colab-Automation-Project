from google.colab import drive
import os
import datetime

# 1. Mount Google Drive (سيتم استخدام المفتاح السري تلقائياً)
drive.mount('/content/drive')
DRIVE_DIR = '/content/drive/MyDrive/Automated_Videos_Test' 

# 2. إنشاء ملف تجريبي (بديل للفيديو)
timestamp = datetime.datetime.now().strftime("%Y%m%d_%H%M%S")
output_filename = f"story_test_{timestamp}.txt"

with open(output_filename, 'w') as f:
    f.write(f"TEST SUCCESS: File created on {timestamp} by GitHub Actions.\n")
    f.write(f"This confirms the secure connection to Google Drive is working.\n")

# 3. نقل الملف إلى Google Drive (المجلد المشترك)
!mv {output_filename} {DRIVE_DIR}/

output_path = os.path.join(DRIVE_DIR, output_filename)
print(f"Successfully moved the test file to: {output_path}")
